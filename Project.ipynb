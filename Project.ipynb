{
  "metadata": {
    "kernelspec": {
      "name": ""
    },
    "language_info": {
      "name": ""
    }
  },
  "nbformat_minor": 4,
  "nbformat": 4,
  "cells": [
    {
      "cell_type": "markdown",
      "source": "# Data Science Tools and Ecosystem",
      "metadata": {}
    },
    {
      "cell_type": "markdown",
      "source": "In this notebook, Data Science Tools and Ecosystem are summarized.",
      "metadata": {}
    },
    {
      "cell_type": "markdown",
      "source": "Some of the popular languages that Data Scientists use are:\n\n1. Python  \n2. R  \n3. SQL  \n4. Julia  \n5. Java",
      "metadata": {}
    },
    {
      "cell_type": "markdown",
      "source": "Some of the commonly used libraries used by Data Scientists include:\n\n1. NumPy  \n2. Pandas  \n3. Matplotlib  \n4. Scikit-learn  \n5. TensorFlow  \n6. Keras  ",
      "metadata": {}
    },
    {
      "cell_type": "markdown",
      "source": "| Data Science Tools       |\n|--------------------------|\n| Jupyter Notebook         |\n| RStudio                  |\n| Apache Zeppelin          |",
      "metadata": {}
    },
    {
      "cell_type": "markdown",
      "source": "### Below are a few examples of evaluating arithmetic expressions in Python.\n",
      "metadata": {}
    },
    {
      "cell_type": "markdown",
      "source": "**Objectives:**\n\n- List popular languages for Data Science.\n- List commonly used libraries in Data Science.\n- Introduce some of the common tools for Data Science.\n- Demonstrate basic arithmetic expressions in Python.\n- Convert minutes to hours using Python.",
      "metadata": {}
    },
    {
      "cell_type": "markdown",
      "source": "## Author\nMohammad Youssef",
      "metadata": {}
    },
    {
      "cell_type": "code",
      "source": "",
      "metadata": {
        "trusted": true
      },
      "outputs": [],
      "execution_count": null
    }
  ]
}