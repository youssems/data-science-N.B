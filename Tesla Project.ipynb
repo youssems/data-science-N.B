{
  "metadata": {
    "kernelspec": {
      "name": "python",
      "display_name": "Python (Pyodide)",
      "language": "python"
    },
    "language_info": {
      "codemirror_mode": {
        "name": "python",
        "version": 3
      },
      "file_extension": ".py",
      "mimetype": "text/x-python",
      "name": "python",
      "nbconvert_exporter": "python",
      "pygments_lexer": "ipython3",
      "version": "3.8"
    }
  },
  "nbformat_minor": 5,
  "nbformat": 4,
  "cells": [
    {
      "id": "a9ed9fa8-d4e2-4663-a8df-912d46aaf6a4",
      "cell_type": "code",
      "source": "import yfinance as yf\nimport pandas as pd\n\n# Fetch Tesla stock data using yfinance\ntesla = yf.Ticker(\"TSLA\")\n\n# Get historical market data for Tesla\ntesla_data = tesla.history(period=\"max\")\n\n# Display the first few rows of the data to verify\nprint(tesla_data.head())\n\n# Optionally, save the data to a CSV file for later use\ntesla_data.to_csv(\"tesla_stock_data.csv\")\n",
      "metadata": {
        "trusted": true
      },
      "outputs": [],
      "execution_count": null
    },
    {
      "id": "7dd667d7-3de8-4853-b6bc-4490ec3a12f2",
      "cell_type": "code",
      "source": "import requests\nfrom bs4 import BeautifulSoup\n\n# URL for Tesla's financials page on Yahoo Finance\nurl = \"https://finance.yahoo.com/quote/TSLA/financials\"\n\n# Send a GET request to the URL\nresponse = requests.get(url)\n\n# Parse the HTML content of the page with BeautifulSoup\nsoup = BeautifulSoup(response.text, 'html.parser')\n\n# Find the table containing the financial data\nfinancial_table = soup.find('div', {'class': 'D(tbrg)'})\n\n# Extract the revenue data (usually under the 'Total Revenue' row)\nrevenue = financial_table.find_all('span', string=\"Total Revenue\")[0].find_next('span').text\n\n# Print the extracted revenue data\nprint(\"Tesla's Total Revenue:\", revenue)",
      "metadata": {
        "trusted": true
      },
      "outputs": [],
      "execution_count": null
    },
    {
      "id": "3deab3f9-cd6f-4eba-9851-75207908e259",
      "cell_type": "code",
      "source": "import yfinance as yf\n\n# Extract stock data for GameStop (GME)\ngme = yf.Ticker(\"GME\")\ngme_data = gme.history(period=\"1y\")  # You can adjust the period as needed, for example \"1y\" for 1 year.\n\n# Reset the index of the dataframe\ngme_data.reset_index(inplace=True)\n\n# Save the data to a CSV file\ngme_data.to_csv(\"gme_stock_data.csv\", index=False)\n\n# Display the first five rows of the dataframe\nprint(gme_data.head())",
      "metadata": {
        "trusted": true
      },
      "outputs": [
        {
          "ename": "<class 'ModuleNotFoundError'>",
          "evalue": "No module named 'yfinance'",
          "traceback": [
            "\u001b[0;31m---------------------------------------------------------------------------\u001b[0m",
            "\u001b[0;31mModuleNotFoundError\u001b[0m                       Traceback (most recent call last)",
            "Cell \u001b[0;32mIn[3], line 1\u001b[0m\n\u001b[0;32m----> 1\u001b[0m \u001b[38;5;28;01mimport\u001b[39;00m \u001b[38;5;21;01myfinance\u001b[39;00m \u001b[38;5;28;01mas\u001b[39;00m \u001b[38;5;21;01myf\u001b[39;00m\n\u001b[1;32m      3\u001b[0m \u001b[38;5;66;03m# Extract stock data for GameStop (GME)\u001b[39;00m\n\u001b[1;32m      4\u001b[0m gme \u001b[38;5;241m=\u001b[39m yf\u001b[38;5;241m.\u001b[39mTicker(\u001b[38;5;124m\"\u001b[39m\u001b[38;5;124mGME\u001b[39m\u001b[38;5;124m\"\u001b[39m)\n",
            "\u001b[0;31mModuleNotFoundError\u001b[0m: No module named 'yfinance'"
          ],
          "output_type": "error"
        }
      ],
      "execution_count": 3
    },
    {
      "id": "91c977f3-912b-4b62-a39b-010efddd84b8",
      "cell_type": "code",
      "source": "import requests\nfrom bs4 import BeautifulSoup\nimport pandas as pd\n\n# URL of the GameStop (GME) Yahoo Finance page\nurl = \"https://finance.yahoo.com/quote/GME/financials?p=GME\"\n\n# Send GET request to fetch page content\nresponse = requests.get(url)\n\n# Parse the content with BeautifulSoup\nsoup = BeautifulSoup(response.text, 'html.parser')\n\n# Find the table containing the revenue data\ntable = soup.find_all('table')[0]  # The first table contains the financial data\n\n# Extract column names\ncolumns = [th.text.strip() for th in table.find_all('th')]\n\n# Extract all rows of data\nrows = []\nfor row in table.find_all('tr')[1:]:  # Skipping the header row\n    rows.append([td.text.strip() for td in row.find_all('td')])\n\n# Convert data to a pandas DataFrame\ngme_revenue = pd.DataFrame(rows, columns=columns)\n\n# Display the last five rows of the dataframe using tail()\nprint(gme_revenue.tail())",
      "metadata": {
        "trusted": true
      },
      "outputs": [],
      "execution_count": null
    },
    {
      "id": "f470d07b-224a-40f7-b477-8a227cac519f",
      "cell_type": "code",
      "source": "import yfinance as yf\nimport matplotlib.pyplot as plt\n\n# Download Tesla stock data\ntesla = yf.Ticker(\"TSLA\")\ntesla_data = tesla.history(period=\"1y\")  # 1 year of data\n\n# Display the first few rows to check the data\nprint(tesla_data.head())",
      "metadata": {
        "trusted": true
      },
      "outputs": [],
      "execution_count": null
    },
    {
      "id": "7f749908-d83c-487e-a737-9b9ff2e855d8",
      "cell_type": "code",
      "source": "import yfinance as yf\nimport matplotlib.pyplot as plt\n\n# Download GameStop stock data\ngme = yf.Ticker(\"GME\")\ngme_data = gme.history(period=\"1y\")  # 1 year of data\n\n# Display the first few rows to check the data\nprint(gme_data.head())",
      "metadata": {
        "trusted": true
      },
      "outputs": [],
      "execution_count": null
    }
  ]
}